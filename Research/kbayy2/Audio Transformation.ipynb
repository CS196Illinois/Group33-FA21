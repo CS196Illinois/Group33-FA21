{
 "cells": [
  {
   "cell_type": "code",
   "execution_count": 3,
   "id": "9dcab37f",
   "metadata": {},
   "outputs": [],
   "source": [
    "import os\n",
    "import torch\n",
    "import torchaudio\n",
    "import matplotlib.pyplot as plt\n",
    "from torch.utils.data import Dataset, DataLoader\n",
    "from pathlib import Path"
   ]
  },
  {
   "cell_type": "code",
   "execution_count": 4,
   "id": "13f42788",
   "metadata": {},
   "outputs": [],
   "source": [
    "def load_audio_files(path: str, label:str):\n",
    "\n",
    "    dataset = []\n",
    "    walker = sorted(str(p) for p in Path(path).glob(f'*.wav'))\n",
    "\n",
    "    for i, file_path in enumerate(walker):\n",
    "        path, filename = os.path.split(file_path)\n",
    "        speaker, _ = os.path.splitext(filename)\n",
    "        speaker_id, utterance_number = speaker.split(\"_nohash_\")\n",
    "        utterance_number = int(utterance_number)\n",
    "    \n",
    "        # Load audio\n",
    "        waveform, sample_rate = torchaudio.load(file_path)\n",
    "        dataset.append([waveform, sample_rate, label, speaker_id, utterance_number])\n",
    "        \n",
    "    return dataset"
   ]
  },
  {
   "cell_type": "code",
   "execution_count": 5,
   "id": "22cc9002",
   "metadata": {},
   "outputs": [],
   "source": [
    "trainset_speechcommands_yes = load_audio_files('./data/SpeechCommands/speech_commands_v0.02/yes', 'yes')\n",
    "trainset_speechcommands_no = load_audio_files('./data/SpeechCommands/speech_commands_v0.02/no', 'no')"
   ]
  },
  {
   "cell_type": "code",
   "execution_count": 6,
   "id": "5dbe27be",
   "metadata": {},
   "outputs": [
    {
     "name": "stdout",
     "output_type": "stream",
     "text": [
      "Length of yes dataset: 0\n",
      "Length of no dataset: 0\n"
     ]
    }
   ],
   "source": [
    "print(f'Length of yes dataset: {len(trainset_speechcommands_yes)}')\n",
    "print(f'Length of no dataset: {len(trainset_speechcommands_no)}')"
   ]
  },
  {
   "cell_type": "code",
   "execution_count": null,
   "id": "09bee239",
   "metadata": {},
   "outputs": [],
   "source": [
    "trainloader_yes = torch.utils.data.DataLoader(trainset_speechcommands_yes, batch_size=1,\n",
    "                                            shuffle=True, num_workers=0)"
   ]
  },
  {
   "cell_type": "code",
   "execution_count": null,
   "id": "abaff3cc",
   "metadata": {},
   "outputs": [],
   "source": []
  }
 ],
 "metadata": {
  "kernelspec": {
   "display_name": "Python 3",
   "language": "python",
   "name": "python3"
  },
  "language_info": {
   "codemirror_mode": {
    "name": "ipython",
    "version": 3
   },
   "file_extension": ".py",
   "mimetype": "text/x-python",
   "name": "python",
   "nbconvert_exporter": "python",
   "pygments_lexer": "ipython3",
   "version": "3.8.8"
  }
 },
 "nbformat": 4,
 "nbformat_minor": 5
}
